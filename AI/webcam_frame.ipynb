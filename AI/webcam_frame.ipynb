{
 "cells": [
  {
   "cell_type": "code",
   "execution_count": 2,
   "metadata": {},
   "outputs": [
    {
     "name": "stdout",
     "output_type": "stream",
     "text": [
      "20221205_141150684568.jpg  saved\n",
      "20221205_141151022003.jpg  saved\n",
      "20221205_141151339381.jpg  saved\n",
      "20221205_141151680474.jpg  saved\n",
      "20221205_141152009623.jpg  saved\n",
      "20221205_141152350744.jpg  saved\n",
      "20221205_141152685619.jpg  saved\n",
      "20221205_141153003675.jpg  saved\n",
      "20221205_141153337663.jpg  saved\n",
      "20221205_141153673034.jpg  saved\n",
      "20221205_141154009862.jpg  saved\n",
      "20221205_141154354388.jpg  saved\n",
      "20221205_141154667250.jpg  saved\n",
      "20221205_141155002755.jpg  saved\n",
      "20221205_141155339830.jpg  saved\n",
      "20221205_141155675707.jpg  saved\n",
      "20221205_141155995585.jpg  saved\n",
      "20221205_141156334012.jpg  saved\n"
     ]
    }
   ],
   "source": [
    "import cv2\n",
    "import datetime\n",
    "\n",
    "webcam = cv2.VideoCapture(0)\n",
    "\n",
    "if not webcam.isOpened():\n",
    "    print(\"Could not open webcam\")\n",
    "    exit()\n",
    "\n",
    "sample_num = 0\n",
    "\n",
    "while webcam.isOpened():\n",
    "    status, frame = webcam.read()\n",
    "\n",
    "    if status:\n",
    "        cv2.imshow(\"test\", frame)\n",
    "\n",
    "    key = cv2.waitKey(1)\n",
    "    if key & 0xFF == ord('q'):\n",
    "        break\n",
    "\n",
    "    sample_num = sample_num + 1\n",
    "    if sample_num == 10:\n",
    "        file = datetime.datetime.now().strftime(\"%Y%m%d_%H%M%S%f\") + '.jpg'\n",
    "        cv2.imwrite(file, frame)\n",
    "        print(file, ' saved')\n",
    "        sample_num = 0\n",
    "\n",
    "webcam.release()\n",
    "cv2.destroyAllWindows()"
   ]
  },
  {
   "cell_type": "code",
   "execution_count": 12,
   "metadata": {},
   "outputs": [
    {
     "name": "stdout",
     "output_type": "stream",
     "text": [
      "20221205_120747915922\n"
     ]
    }
   ],
   "source": [
    "print(datetime.datetime.now().strftime(\"%Y%m%d_%H%M%S%f\"))"
   ]
  },
  {
   "cell_type": "code",
   "execution_count": null,
   "metadata": {},
   "outputs": [],
   "source": []
  }
 ],
 "metadata": {
  "kernelspec": {
   "display_name": "Python 3.9.13 64-bit",
   "language": "python",
   "name": "python3"
  },
  "language_info": {
   "codemirror_mode": {
    "name": "ipython",
    "version": 3
   },
   "file_extension": ".py",
   "mimetype": "text/x-python",
   "name": "python",
   "nbconvert_exporter": "python",
   "pygments_lexer": "ipython3",
   "version": "3.9.13"
  },
  "orig_nbformat": 4,
  "vscode": {
   "interpreter": {
    "hash": "cf92aa13fedf815d5c8dd192b8d835913fde3e8bc926b2a0ad6cc74ef2ba3ca2"
   }
  }
 },
 "nbformat": 4,
 "nbformat_minor": 2
}

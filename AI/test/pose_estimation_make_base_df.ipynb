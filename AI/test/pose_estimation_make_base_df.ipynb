{
 "cells": [
  {
   "cell_type": "code",
   "execution_count": null,
   "metadata": {},
   "outputs": [],
   "source": [
    "import pandas as pd\n",
    "# from imutils import face_utils\n",
    "import numpy as np\n",
    "# import argparse\n",
    "# import imutils\n",
    "import dlib\n",
    "from matplotlib import pyplot as plt\n",
    "import cv2\n",
    "# import skvideo\n",
    "# skvideo.setFFmpegPath(\"C:\\\\Users\\\\lak50\\\\Desktop\\\\test\\\\ffmpeg\")\n",
    "import skvideo.io\n",
    "import matplotlib as mpl   "
   ]
  },
  {
   "cell_type": "code",
   "execution_count": null,
   "metadata": {},
   "outputs": [],
   "source": [
    "## face detector와 landmark predictor 정의\n",
    "detector = dlib.get_frontal_face_detector()\n",
    "predictor = dlib.shape_predictor(\"shape_predictor_68_face_landmarks.dat\")\n",
    "\n",
    "## 비디오 읽어오기\n",
    "cap = skvideo.io.vreader('test.mp4')\n",
    "\n",
    "count = 0\n",
    "df_x = pd.DataFrame()\n",
    "df_y = pd.DataFrame()\n",
    "## 각 frame마다 얼굴 찾고, landmark 찍기\n",
    "for frame in cap:    \n",
    "    ## RGB에서 BGR로 바꾸기 \n",
    "    img = cv2.cvtColor(frame, cv2.COLOR_RGB2BGR)\n",
    "\n",
    "    ## resize할 비율 구하기\n",
    "    r = 300. / img.shape[1]\n",
    "    dim = (300, int(img.shape[0] * r))\n",
    "\n",
    "    resized = cv2.resize(img, dim, interpolation = cv2.INTER_AREA)\n",
    "\n",
    "    ## 얼굴 detection\n",
    "    rects = detector(resized, 1)\n",
    "    for i, rect in enumerate(rects):\n",
    "        \n",
    "        ## 찾은 얼굴의 박스좌표\n",
    "        l = rect.left()\n",
    "        t = rect.top()\n",
    "        b = rect.bottom()\n",
    "        r = rect.right()\n",
    "\n",
    "        ## facial landmark 찾기\n",
    "        shape = predictor(resized, rect)\n",
    "        ## facial landmark를 빨간색 점으로 찍어서 표현\n",
    "        x_list = []\n",
    "        y_list = []\n",
    "        for j in range(68):\n",
    "            x, y = shape.part(j).x, shape.part(j).y\n",
    "            cv2.circle(resized, (x, y), 1, (0, 0, 255), -1)\n",
    "            x_list.append(x)\n",
    "            y_list.append(y)\n",
    "            cv2.rectangle(resized, (l, t), (r, b), (0, 255, 0), 2)\n",
    "            result = cv2.putText(resized, str(j), (x, y), cv2.FONT_HERSHEY_SCRIPT_SIMPLEX, 0.3, (0, 255, 0))\n",
    "        ## 얼굴이 있는 부분을 박스쳐주기\n",
    "        count += 1\n",
    "        df_x['face' + str(count)] = x_list\n",
    "        df_y['face' + str(count)] = y_list\n",
    "        # cv2.imwrite('test_folder\\\\img' + str(count) + '.png', result)\n",
    "        ## 처리된 이미지 보여주기\n",
    "        # cv2.imshow('frame', resized)\n",
    "        # count += 1\n",
    "        # cv2.imwrite('C:\\\\Users\\\\lak50\\\\Desktop\\\\test\\\\test_folder\\\\img' + str(count) + '.png',result)\n",
    "        # # plt.imshow(final)\n",
    "        # # plt.title('my picture')\n",
    "        # # plt.show()\n",
    "        # if cv2.waitKey(1) & 0xFF == ord('q'):\n",
    "        #     break\n",
    "cv2.waitKey(0)\n",
    "cv2.destroyAllWindows()"
   ]
  }
 ],
 "metadata": {
  "kernelspec": {
   "display_name": "Python 3.9.12 ('base')",
   "language": "python",
   "name": "python3"
  },
  "language_info": {
   "name": "python",
   "version": "3.9.12"
  },
  "orig_nbformat": 4,
  "vscode": {
   "interpreter": {
    "hash": "964f46f3973c3d99dc6929d5bd1748275317def86f082ea2874e0d5a9cf6d261"
   }
  }
 },
 "nbformat": 4,
 "nbformat_minor": 2
}

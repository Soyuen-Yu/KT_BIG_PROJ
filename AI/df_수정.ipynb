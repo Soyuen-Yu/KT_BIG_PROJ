{
 "cells": [
  {
   "cell_type": "code",
   "execution_count": 1,
   "metadata": {},
   "outputs": [],
   "source": [
    "import cv2\n",
    "import datetime\n",
    "import pandas as pd\n",
    "import numpy as np\n",
    "import dlib\n",
    "import os\n",
    "from matplotlib import pyplot as plt\n",
    "import skvideo.io\n",
    "import matplotlib as mpl\n",
    "import time"
   ]
  },
  {
   "cell_type": "code",
   "execution_count": 2,
   "metadata": {},
   "outputs": [],
   "source": [
    "def createFolder(directory):\n",
    "    try:\n",
    "        if not os.path.exists(directory):\n",
    "            os.makedirs(directory)\n",
    "    except OSError:\n",
    "        print ('Error: Creating directory. ' +  directory)"
   ]
  },
  {
   "cell_type": "code",
   "execution_count": 3,
   "metadata": {},
   "outputs": [],
   "source": [
    "## face detector와 landmark predictor 정의\n",
    "detector = dlib.get_frontal_face_detector()\n",
    "predictor = dlib.shape_predictor(\"shape_predictor_68_face_landmarks.dat\")\n",
    "num = int(input('운동 횟수를 입력해주세요'))"
   ]
  },
  {
   "cell_type": "code",
   "execution_count": 5,
   "metadata": {},
   "outputs": [
    {
     "ename": "NameError",
     "evalue": "name 'df_x' is not defined",
     "output_type": "error",
     "traceback": [
      "\u001b[1;31m---------------------------------------------------------------------------\u001b[0m",
      "\u001b[1;31mNameError\u001b[0m                                 Traceback (most recent call last)",
      "Cell \u001b[1;32mIn[5], line 79\u001b[0m\n\u001b[0;32m     76\u001b[0m         file \u001b[39m=\u001b[39m \u001b[39m'\u001b[39m\u001b[39mtest_\u001b[39m\u001b[39m'\u001b[39m \u001b[39m+\u001b[39m \u001b[39mstr\u001b[39m(i2) \u001b[39m+\u001b[39m \u001b[39m'\u001b[39m\u001b[39m\\\\\u001b[39;00m\u001b[39m'\u001b[39m \u001b[39m+\u001b[39m datetime\u001b[39m.\u001b[39mdatetime\u001b[39m.\u001b[39mnow()\u001b[39m.\u001b[39mstrftime(\u001b[39m\"\u001b[39m\u001b[39m%\u001b[39m\u001b[39mY\u001b[39m\u001b[39m%\u001b[39m\u001b[39mm\u001b[39m\u001b[39m%d\u001b[39;00m\u001b[39m_\u001b[39m\u001b[39m%\u001b[39m\u001b[39mH\u001b[39m\u001b[39m%\u001b[39m\u001b[39mM\u001b[39m\u001b[39m%\u001b[39m\u001b[39mS\u001b[39m\u001b[39m%f\u001b[39;00m\u001b[39m\"\u001b[39m) \u001b[39m+\u001b[39m \u001b[39m'\u001b[39m\u001b[39m.jpg\u001b[39m\u001b[39m'\u001b[39m\n\u001b[0;32m     77\u001b[0m         cv2\u001b[39m.\u001b[39mimwrite(file, result)\n\u001b[1;32m---> 79\u001b[0m     \u001b[39mdel\u001b[39;00m df_x\n\u001b[0;32m     80\u001b[0m     \u001b[39mdel\u001b[39;00m df_y\n\u001b[0;32m     82\u001b[0m \u001b[39mprint\u001b[39m(\u001b[39m'\u001b[39m\u001b[39mfinish\u001b[39m\u001b[39m'\u001b[39m) \u001b[39m# 모두 저장\u001b[39;00m\n",
      "\u001b[1;31mNameError\u001b[0m: name 'df_x' is not defined"
     ]
    },
    {
     "ename": "",
     "evalue": "",
     "output_type": "error",
     "traceback": [
      "\u001b[1;31m현재 셀 또는 이전 셀에서 코드를 실행하는 동안 Kernel이 충돌했습니다. 셀의 코드를 검토하여 오류의 가능한 원인을 식별하세요. 자세한 내용을 보려면 <a href='https://aka.ms/vscodeJupyterKernelCrash'> 여기 </a> 를 클릭하세요. 자세한 내용은 Jupyter <a href='command:jupyter.viewOutput'>로그</a>를 참조하세요."
     ]
    }
   ],
   "source": [
    "webcam = cv2.VideoCapture(0)\n",
    "\n",
    "if not webcam.isOpened():\n",
    "    print(\"Could not open webcam\")\n",
    "    exit()\n",
    "\n",
    "sample_num = 0\n",
    "count = 0\n",
    "\n",
    "while webcam.isOpened():\n",
    "    status, frame = webcam.read()\n",
    "\n",
    "    if status:\n",
    "        cv2.imshow(\"test\", frame)\n",
    "\n",
    "    # q를 누르면 종료\n",
    "    key = cv2.waitKey(1)\n",
    "    if key & 0xFF == ord('q'):\n",
    "        break\n",
    "\n",
    "    # 자동으로 캡쳐\n",
    "    sample_num = sample_num + 1\n",
    "\n",
    "    if sample_num == 10:\n",
    "    #if key & 0xFF == ord('s'):\n",
    "\n",
    "        for i2 in range(num):\n",
    "            count = 0\n",
    "            df_x = pd.DataFrame(columns=['x' + str(x) for x in range(0, 68)]) # 좌표를 column으로\n",
    "            df_y = pd.DataFrame(columns=['y' + str(x) for x in range(0, 68)])\n",
    "\n",
    "            # cv2 이미지처리\n",
    "            img = cv2.cvtColor(frame, cv2.COLOR_RGB2BGR)\n",
    "\n",
    "            # resize\n",
    "            r = 400. / img.shape[1]\n",
    "            dim = (400, int(img.shape[0] * r))\n",
    "            resized = cv2.resize(img, dim, interpolation=cv2.INTER_AREA)\n",
    "\n",
    "            # 얼굴 detection\n",
    "            rects = detector(resized, 1)\n",
    "            \n",
    "            for i, rect in enumerate(rects):\n",
    "                # 찾은 얼굴의 박스좌표\n",
    "                l = rect.left()\n",
    "                t = rect.top()\n",
    "                b = rect.bottom()\n",
    "                r = rect.right()\n",
    "\n",
    "                # facial landmark 찾기\n",
    "                shape = predictor(resized, rect)\n",
    "                # facial landmakr를 빨간색 점으로 찍어서 표현\n",
    "                x_list = []\n",
    "                y_list = []\n",
    "                for j in range(68):\n",
    "                    x, y = shape.part(j).x, shape.part(j).y\n",
    "                    x_list.append(x)\n",
    "                    y_list.append(y)\n",
    "                    cv2.circle(resized, (x, y), 1, (0, 0, 255), -1)\n",
    "                    cv2.rectangle(resized, (l, t), (r, b), (0, 255, 0), 2)\n",
    "                    result = cv2.putText(resized, str(j), (x, y), cv2.FONT_HERSHEY_SCRIPT_SIMPLEX, 0.3, (0, 255, 0))\n",
    "                \n",
    "                # 얼굴이 있는 부분을 박스\n",
    "                # 행추가를 좀 하고 싶다\n",
    "                count += 1\n",
    "                df_x.loc[count] = x_list # row 추가\n",
    "                df_y.loc[count] = y_list\n",
    "\n",
    "                createFolder('test_' + str(i2))\n",
    "                df_x.to_csv('test_' + str(i2) + '\\\\test_dfx.csv')\n",
    "                df_y.to_csv('test_' + str(i2) + '\\\\test_dfy.csv')\n",
    "\n",
    "                # 이미지 저장할 경로 입력\n",
    "                file = 'test_' + str(i2) + '\\\\' + datetime.datetime.now().strftime(\"%Y%m%d_%H%M%S%f\") + '.jpg'\n",
    "                cv2.imwrite(file, result)\n",
    "\n",
    "            del df_x\n",
    "            del df_y\n",
    "\n",
    "        print('finish') # 모두 저장\n",
    "        sample_num = 0\n",
    "\n",
    "webcam.release()\n",
    "cv2.destroyAllWindows()"
   ]
  },
  {
   "cell_type": "code",
   "execution_count": null,
   "metadata": {},
   "outputs": [],
   "source": []
  }
 ],
 "metadata": {
  "kernelspec": {
   "display_name": "Python 3.9.13 64-bit",
   "language": "python",
   "name": "python3"
  },
  "language_info": {
   "codemirror_mode": {
    "name": "ipython",
    "version": 3
   },
   "file_extension": ".py",
   "mimetype": "text/x-python",
   "name": "python",
   "nbconvert_exporter": "python",
   "pygments_lexer": "ipython3",
   "version": "3.9.13"
  },
  "orig_nbformat": 4,
  "vscode": {
   "interpreter": {
    "hash": "cf92aa13fedf815d5c8dd192b8d835913fde3e8bc926b2a0ad6cc74ef2ba3ca2"
   }
  }
 },
 "nbformat": 4,
 "nbformat_minor": 2
}

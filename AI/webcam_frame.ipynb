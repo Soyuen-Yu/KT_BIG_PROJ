{
 "cells": [
  {
   "cell_type": "code",
   "execution_count": 1,
   "metadata": {},
   "outputs": [
    {
     "name": "stdout",
     "output_type": "stream",
     "text": [
      "C:\\Users\\User\\Desktop\\face_landmark\\test_folder\\1.jpg  saved\n",
      "C:\\Users\\User\\Desktop\\face_landmark\\test_folder\\2.jpg  saved\n",
      "C:\\Users\\User\\Desktop\\face_landmark\\test_folder\\3.jpg  saved\n",
      "C:\\Users\\User\\Desktop\\face_landmark\\test_folder\\4.jpg  saved\n",
      "C:\\Users\\User\\Desktop\\face_landmark\\test_folder\\5.jpg  saved\n",
      "C:\\Users\\User\\Desktop\\face_landmark\\test_folder\\6.jpg  saved\n",
      "C:\\Users\\User\\Desktop\\face_landmark\\test_folder\\7.jpg  saved\n",
      "C:\\Users\\User\\Desktop\\face_landmark\\test_folder\\8.jpg  saved\n",
      "C:\\Users\\User\\Desktop\\face_landmark\\test_folder\\9.jpg  saved\n",
      "C:\\Users\\User\\Desktop\\face_landmark\\test_folder\\10.jpg  saved\n",
      "C:\\Users\\User\\Desktop\\face_landmark\\test_folder\\11.jpg  saved\n",
      "C:\\Users\\User\\Desktop\\face_landmark\\test_folder\\12.jpg  saved\n",
      "C:\\Users\\User\\Desktop\\face_landmark\\test_folder\\13.jpg  saved\n",
      "C:\\Users\\User\\Desktop\\face_landmark\\test_folder\\14.jpg  saved\n",
      "C:\\Users\\User\\Desktop\\face_landmark\\test_folder\\15.jpg  saved\n",
      "C:\\Users\\User\\Desktop\\face_landmark\\test_folder\\16.jpg  saved\n",
      "C:\\Users\\User\\Desktop\\face_landmark\\test_folder\\17.jpg  saved\n",
      "C:\\Users\\User\\Desktop\\face_landmark\\test_folder\\18.jpg  saved\n",
      "C:\\Users\\User\\Desktop\\face_landmark\\test_folder\\19.jpg  saved\n",
      "C:\\Users\\User\\Desktop\\face_landmark\\test_folder\\20.jpg  saved\n",
      "C:\\Users\\User\\Desktop\\face_landmark\\test_folder\\21.jpg  saved\n",
      "C:\\Users\\User\\Desktop\\face_landmark\\test_folder\\22.jpg  saved\n",
      "C:\\Users\\User\\Desktop\\face_landmark\\test_folder\\23.jpg  saved\n",
      "C:\\Users\\User\\Desktop\\face_landmark\\test_folder\\24.jpg  saved\n",
      "C:\\Users\\User\\Desktop\\face_landmark\\test_folder\\25.jpg  saved\n",
      "C:\\Users\\User\\Desktop\\face_landmark\\test_folder\\26.jpg  saved\n"
     ]
    }
   ],
   "source": [
    "import cv2\n",
    "import datetime\n",
    "\n",
    "webcam = cv2.VideoCapture(0)\n",
    "\n",
    "if not webcam.isOpened():\n",
    "    print(\"Could not open webcam\")\n",
    "    exit()\n",
    "\n",
    "sample_num = 0\n",
    "captured_num = 0\n",
    "\n",
    "while webcam.isOpened():\n",
    "    status, frame = webcam.read()\n",
    "\n",
    "    if status:\n",
    "        cv2.imshow(\"test\", frame)\n",
    "\n",
    "    key = cv2.waitKey(1)\n",
    "    if key & 0xFF == ord('q'):\n",
    "        break\n",
    "\n",
    "    sample_num = sample_num + 1\n",
    "    if sample_num == 10:\n",
    "        captured_num = captured_num + 1\n",
    "        # 이미지 저장할 경로 입력\n",
    "        file = 'C:\\\\Users\\\\User\\\\Desktop\\\\face_landmark\\\\test_folder\\\\' + str(captured_num)+'.jpg'\n",
    "        cv2.imwrite(file, frame)\n",
    "        print(file, ' saved')\n",
    "        sample_num = 0\n",
    "\n",
    "webcam.release()\n",
    "cv2.destroyAllWindows()"
   ]
  },
  {
   "cell_type": "code",
   "execution_count": 12,
   "metadata": {},
   "outputs": [
    {
     "name": "stdout",
     "output_type": "stream",
     "text": [
      "20221205_120747915922\n"
     ]
    }
   ],
   "source": [
    "print(datetime.datetime.now().strftime(\"%Y%m%d_%H%M%S%f\"))"
   ]
  },
  {
   "cell_type": "code",
   "execution_count": null,
   "metadata": {},
   "outputs": [],
   "source": []
  }
 ],
 "metadata": {
  "kernelspec": {
   "display_name": "Python 3.9.13 64-bit",
   "language": "python",
   "name": "python3"
  },
  "language_info": {
   "codemirror_mode": {
    "name": "ipython",
    "version": 3
   },
   "file_extension": ".py",
   "mimetype": "text/x-python",
   "name": "python",
   "nbconvert_exporter": "python",
   "pygments_lexer": "ipython3",
   "version": "3.9.13"
  },
  "orig_nbformat": 4,
  "vscode": {
   "interpreter": {
    "hash": "cf92aa13fedf815d5c8dd192b8d835913fde3e8bc926b2a0ad6cc74ef2ba3ca2"
   }
  }
 },
 "nbformat": 4,
 "nbformat_minor": 2
}

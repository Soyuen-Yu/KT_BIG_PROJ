{
 "cells": [
  {
   "cell_type": "code",
   "execution_count": 24,
   "metadata": {},
   "outputs": [],
   "source": [
    "import json\n",
    "import pandas as pd\n",
    "import numpy as np\n",
    "import glob\n",
    "import os"
   ]
  },
  {
   "cell_type": "code",
   "execution_count": 25,
   "metadata": {},
   "outputs": [],
   "source": [
    "def createFolder(directory):\n",
    "    try:\n",
    "        if not os.path.exists(directory):\n",
    "            os.makedirs(directory)\n",
    "    except OSError:\n",
    "        print ('Error: Creating directory. ' +  directory)"
   ]
  },
  {
   "cell_type": "code",
   "execution_count": 27,
   "metadata": {},
   "outputs": [
    {
     "name": "stdout",
     "output_type": "stream",
     "text": [
      "1\n",
      "2\n",
      "3\n",
      "4\n",
      "5\n",
      "6\n",
      "7\n"
     ]
    },
    {
     "ename": "KeyboardInterrupt",
     "evalue": "",
     "output_type": "error",
     "traceback": [
      "\u001b[1;31m---------------------------------------------------------------------------\u001b[0m",
      "\u001b[1;31mKeyboardInterrupt\u001b[0m                         Traceback (most recent call last)",
      "\u001b[1;32mc:\\Users\\User\\Desktop\\Face-Detection-JavaScript-master\\Face-Detection-JavaScript-master\\back.ipynb 셀 3\u001b[0m in \u001b[0;36m<cell line: 3>\u001b[1;34m()\u001b[0m\n\u001b[0;32m      <a href='vscode-notebook-cell:/c%3A/Users/User/Desktop/Face-Detection-JavaScript-master/Face-Detection-JavaScript-master/back.ipynb#W3sZmlsZQ%3D%3D?line=0'>1</a>\u001b[0m file_num \u001b[39m=\u001b[39m \u001b[39m0\u001b[39m\n\u001b[0;32m      <a href='vscode-notebook-cell:/c%3A/Users/User/Desktop/Face-Detection-JavaScript-master/Face-Detection-JavaScript-master/back.ipynb#W3sZmlsZQ%3D%3D?line=1'>2</a>\u001b[0m \u001b[39mwhile\u001b[39;00m \u001b[39mTrue\u001b[39;00m:\n\u001b[1;32m----> <a href='vscode-notebook-cell:/c%3A/Users/User/Desktop/Face-Detection-JavaScript-master/Face-Detection-JavaScript-master/back.ipynb#W3sZmlsZQ%3D%3D?line=2'>3</a>\u001b[0m     output \u001b[39m=\u001b[39m glob\u001b[39m.\u001b[39;49mglob(\u001b[39m'\u001b[39;49m\u001b[39mC:\u001b[39;49m\u001b[39m\\\\\u001b[39;49;00m\u001b[39mUsers\u001b[39;49m\u001b[39m\\\\\u001b[39;49;00m\u001b[39mUser\u001b[39;49m\u001b[39m\\\\\u001b[39;49;00m\u001b[39mDownloads\u001b[39;49m\u001b[39m\\\\\u001b[39;49;00m\u001b[39m*.json\u001b[39;49m\u001b[39m'\u001b[39;49m)\n\u001b[0;32m      <a href='vscode-notebook-cell:/c%3A/Users/User/Desktop/Face-Detection-JavaScript-master/Face-Detection-JavaScript-master/back.ipynb#W3sZmlsZQ%3D%3D?line=3'>4</a>\u001b[0m     x_df \u001b[39m=\u001b[39m pd\u001b[39m.\u001b[39mDataFrame()\n\u001b[0;32m      <a href='vscode-notebook-cell:/c%3A/Users/User/Desktop/Face-Detection-JavaScript-master/Face-Detection-JavaScript-master/back.ipynb#W3sZmlsZQ%3D%3D?line=4'>5</a>\u001b[0m     y_df \u001b[39m=\u001b[39m pd\u001b[39m.\u001b[39mDataFrame()\n",
      "File \u001b[1;32mc:\\Users\\User\\AppData\\Local\\Programs\\Python\\Python39\\lib\\glob.py:22\u001b[0m, in \u001b[0;36mglob\u001b[1;34m(pathname, recursive)\u001b[0m\n\u001b[0;32m     11\u001b[0m \u001b[39mdef\u001b[39;00m \u001b[39mglob\u001b[39m(pathname, \u001b[39m*\u001b[39m, recursive\u001b[39m=\u001b[39m\u001b[39mFalse\u001b[39;00m):\n\u001b[0;32m     12\u001b[0m     \u001b[39m\"\"\"Return a list of paths matching a pathname pattern.\u001b[39;00m\n\u001b[0;32m     13\u001b[0m \n\u001b[0;32m     14\u001b[0m \u001b[39m    The pattern may contain simple shell-style wildcards a la\u001b[39;00m\n\u001b[1;32m   (...)\u001b[0m\n\u001b[0;32m     20\u001b[0m \u001b[39m    zero or more directories and subdirectories.\u001b[39;00m\n\u001b[0;32m     21\u001b[0m \u001b[39m    \"\"\"\u001b[39;00m\n\u001b[1;32m---> 22\u001b[0m     \u001b[39mreturn\u001b[39;00m \u001b[39mlist\u001b[39;49m(iglob(pathname, recursive\u001b[39m=\u001b[39;49mrecursive))\n",
      "File \u001b[1;32mc:\\Users\\User\\AppData\\Local\\Programs\\Python\\Python39\\lib\\glob.py:75\u001b[0m, in \u001b[0;36m_iglob\u001b[1;34m(pathname, recursive, dironly)\u001b[0m\n\u001b[0;32m     73\u001b[0m     glob_in_dir \u001b[39m=\u001b[39m _glob0\n\u001b[0;32m     74\u001b[0m \u001b[39mfor\u001b[39;00m dirname \u001b[39min\u001b[39;00m dirs:\n\u001b[1;32m---> 75\u001b[0m     \u001b[39mfor\u001b[39;00m name \u001b[39min\u001b[39;00m glob_in_dir(dirname, basename, dironly):\n\u001b[0;32m     76\u001b[0m         \u001b[39myield\u001b[39;00m os\u001b[39m.\u001b[39mpath\u001b[39m.\u001b[39mjoin(dirname, name)\n",
      "File \u001b[1;32mc:\\Users\\User\\AppData\\Local\\Programs\\Python\\Python39\\lib\\glob.py:83\u001b[0m, in \u001b[0;36m_glob1\u001b[1;34m(dirname, pattern, dironly)\u001b[0m\n\u001b[0;32m     82\u001b[0m \u001b[39mdef\u001b[39;00m \u001b[39m_glob1\u001b[39m(dirname, pattern, dironly):\n\u001b[1;32m---> 83\u001b[0m     names \u001b[39m=\u001b[39m _listdir(dirname, dironly)\n\u001b[0;32m     84\u001b[0m     \u001b[39mif\u001b[39;00m \u001b[39mnot\u001b[39;00m _ishidden(pattern):\n\u001b[0;32m     85\u001b[0m         names \u001b[39m=\u001b[39m (x \u001b[39mfor\u001b[39;00m x \u001b[39min\u001b[39;00m names \u001b[39mif\u001b[39;00m \u001b[39mnot\u001b[39;00m _ishidden(x))\n",
      "File \u001b[1;32mc:\\Users\\User\\AppData\\Local\\Programs\\Python\\Python39\\lib\\glob.py:136\u001b[0m, in \u001b[0;36m_listdir\u001b[1;34m(dirname, dironly)\u001b[0m\n\u001b[0;32m    134\u001b[0m \u001b[39mdef\u001b[39;00m \u001b[39m_listdir\u001b[39m(dirname, dironly):\n\u001b[0;32m    135\u001b[0m     \u001b[39mwith\u001b[39;00m contextlib\u001b[39m.\u001b[39mclosing(_iterdir(dirname, dironly)) \u001b[39mas\u001b[39;00m it:\n\u001b[1;32m--> 136\u001b[0m         \u001b[39mreturn\u001b[39;00m \u001b[39mlist\u001b[39;49m(it)\n",
      "File \u001b[1;32mc:\\Users\\User\\AppData\\Local\\Programs\\Python\\Python39\\lib\\glob.py:124\u001b[0m, in \u001b[0;36m_iterdir\u001b[1;34m(dirname, dironly)\u001b[0m\n\u001b[0;32m    122\u001b[0m         dirname \u001b[39m=\u001b[39m os\u001b[39m.\u001b[39mcurdir\n\u001b[0;32m    123\u001b[0m \u001b[39mtry\u001b[39;00m:\n\u001b[1;32m--> 124\u001b[0m     \u001b[39mwith\u001b[39;00m os\u001b[39m.\u001b[39mscandir(dirname) \u001b[39mas\u001b[39;00m it:\n\u001b[0;32m    125\u001b[0m         \u001b[39mfor\u001b[39;00m entry \u001b[39min\u001b[39;00m it:\n\u001b[0;32m    126\u001b[0m             \u001b[39mtry\u001b[39;00m:\n",
      "\u001b[1;31mKeyboardInterrupt\u001b[0m: "
     ]
    }
   ],
   "source": [
    "file_num = 0\n",
    "while True:\n",
    "    output = glob.glob('C:\\\\Users\\\\User\\\\Downloads\\\\*.json')\n",
    "    x_df = pd.DataFrame()\n",
    "    y_df = pd.DataFrame()\n",
    "    count = 0\n",
    "    if len(output) >= 10:\n",
    "        for i in output:\n",
    "            with open (str(i), \"r\") as f:\n",
    "                data = json.load(f)\n",
    "                \n",
    "                globals()[\"df{}\".format(count)] = pd.DataFrame(data).transpose()\n",
    "                \n",
    "                x_df['x' + str(count)] = list(globals()[\"df{}\".format(count)].iloc[0, :])\n",
    "                y_df['y' + str(count)] = list(globals()[\"df{}\".format(count)].iloc[1, :])\n",
    "                \n",
    "                count += 1\n",
    "            os.remove(i)\n",
    "\n",
    "        createFolder('C:\\\\Users\\\\User\\\\Desktop\\\\test_folder')\n",
    "        x_df = pd.DataFrame(x_df).transpose()\n",
    "        y_df = pd.DataFrame(y_df).transpose()\n",
    "        x_df.to_csv('C:\\\\Users\\\\User\\\\Desktop\\\\test_folder\\\\x_df' + str(file_num) + '.csv')\n",
    "        y_df.to_csv('C:\\\\Users\\\\User\\\\Desktop\\\\test_folder\\\\y_df' + str(file_num) + '.csv')\n",
    "        file_num = len(glob.glob('C:\\\\Users\\\\User\\\\Desktop\\\\test_folder\\\\*.csv'))//2\n",
    "        print(file_num)"
   ]
  },
  {
   "cell_type": "code",
   "execution_count": null,
   "metadata": {},
   "outputs": [],
   "source": []
  },
  {
   "cell_type": "code",
   "execution_count": null,
   "metadata": {},
   "outputs": [],
   "source": []
  },
  {
   "cell_type": "code",
   "execution_count": null,
   "metadata": {},
   "outputs": [],
   "source": []
  }
 ],
 "metadata": {
  "kernelspec": {
   "display_name": "Python 3.9.13 64-bit",
   "language": "python",
   "name": "python3"
  },
  "language_info": {
   "codemirror_mode": {
    "name": "ipython",
    "version": 3
   },
   "file_extension": ".py",
   "mimetype": "text/x-python",
   "name": "python",
   "nbconvert_exporter": "python",
   "pygments_lexer": "ipython3",
   "version": "3.9.13 (tags/v3.9.13:6de2ca5, May 17 2022, 16:36:42) [MSC v.1929 64 bit (AMD64)]"
  },
  "orig_nbformat": 4,
  "vscode": {
   "interpreter": {
    "hash": "cf92aa13fedf815d5c8dd192b8d835913fde3e8bc926b2a0ad6cc74ef2ba3ca2"
   }
  }
 },
 "nbformat": 4,
 "nbformat_minor": 2
}

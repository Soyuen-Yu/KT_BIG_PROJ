{
 "cells": [
  {
   "cell_type": "code",
   "execution_count": 5,
   "id": "0fcb44ca",
   "metadata": {},
   "outputs": [],
   "source": [
    "import numpy as np\n",
    "import pandas as pd\n",
    "\n",
    "from keras.models import Sequential\n",
    "from keras.layers import Conv2D, MaxPooling2D,GlobalAveragePooling2D,Dropout, Flatten, Dense\n",
    "from keras import regularizers\n",
    "from keras.optimizers import SGD\n",
    "from keras.preprocessing.image import ImageDataGenerator\n",
    "from sklearn.metrics import roc_auc_score\n",
    "from sklearn.preprocessing import LabelEncoder # one-hot encoding for age\n",
    "from keras.utils.np_utils import to_categorical\n",
    "import keras\n",
    "import tensorflow.compat.v2 as tf\n",
    "\n",
    "import matplotlib.image as mpimg\n",
    "import matplotlib.pyplot as plt\n",
    "from PIL import Image\n",
    "from sklearn.model_selection import train_test_split\n",
    "import cv2\n",
    "import os\n",
    "from tensorflow.keras.callbacks import ModelCheckpoint, EarlyStopping"
   ]
  },
  {
   "cell_type": "code",
   "execution_count": 7,
   "id": "750f2fc6",
   "metadata": {},
   "outputs": [],
   "source": [
    "model = tf.keras.models.load_model('model2.h5')"
   ]
  },
  {
   "cell_type": "code",
   "execution_count": 9,
   "id": "876f9729",
   "metadata": {},
   "outputs": [
    {
     "data": {
      "text/plain": [
       "['jy.jpg']"
      ]
     },
     "execution_count": 9,
     "metadata": {},
     "output_type": "execute_result"
    }
   ],
   "source": [
    "age_folder = './face'\n",
    "images = os.listdir(age_folder)[:10]\n",
    "images"
   ]
  },
  {
   "cell_type": "code",
   "execution_count": 12,
   "id": "95b0c4e4",
   "metadata": {},
   "outputs": [],
   "source": [
    "X, Y = [], []\n",
    "width = 180\n",
    "height = 180\n",
    "\n",
    "for i in images:\n",
    "    image = Image.open('./face/' + i)\n",
    "    image = image.convert('RGB')\n",
    "    image = image.resize((width, height))\n",
    "    image"
   ]
  },
  {
   "cell_type": "code",
   "execution_count": 13,
   "id": "817ec8b2",
   "metadata": {},
   "outputs": [],
   "source": [
    "for folder_name,_,filenames in os.walk(age_folder):\n",
    "    if folder_name !=\"face_age\" and folder_name != 'Data':\n",
    "        for file in filenames:\n",
    "            file_path = folder_name +\"/\"+ file\n",
    "            image = Image.open(file_path)\n",
    "            image = image.convert('RGB')\n",
    "            image = image.resize((width, height))\n",
    "            X.append(np.array(image))\n",
    "            Y.append(3)\n",
    "    else:\n",
    "        pass"
   ]
  },
  {
   "cell_type": "code",
   "execution_count": 14,
   "id": "bd482852",
   "metadata": {},
   "outputs": [
    {
     "name": "stdout",
     "output_type": "stream",
     "text": [
      "Min: 0.027, Max: 1.000\n"
     ]
    }
   ],
   "source": [
    "X = np.array(X)\n",
    "X = X.astype('float32')\n",
    "X /= 255.0\n",
    "# confirm the normalization\n",
    "print('Min: %.3f, Max: %.3f' % (X.min(), X.max()))\n",
    "\n",
    "Y = np.array(Y)"
   ]
  },
  {
   "cell_type": "code",
   "execution_count": 16,
   "id": "73236289",
   "metadata": {},
   "outputs": [
    {
     "name": "stdout",
     "output_type": "stream",
     "text": [
      "1/1 [==============================] - 0s 301ms/step\n"
     ]
    },
    {
     "data": {
      "text/plain": [
       "array([[17.152437]], dtype=float32)"
      ]
     },
     "execution_count": 16,
     "metadata": {},
     "output_type": "execute_result"
    }
   ],
   "source": [
    "result = model.predict(X)\n",
    "result"
   ]
  },
  {
   "cell_type": "code",
   "execution_count": null,
   "id": "6b77c88a",
   "metadata": {},
   "outputs": [],
   "source": []
  }
 ],
 "metadata": {
  "kernelspec": {
   "display_name": "Python 3",
   "language": "python",
   "name": "python3"
  },
  "language_info": {
   "codemirror_mode": {
    "name": "ipython",
    "version": 3
   },
   "file_extension": ".py",
   "mimetype": "text/x-python",
   "name": "python",
   "nbconvert_exporter": "python",
   "pygments_lexer": "ipython3",
   "version": "3.8.8"
  }
 },
 "nbformat": 4,
 "nbformat_minor": 5
}
